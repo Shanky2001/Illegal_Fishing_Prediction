{
 "cells": [
  {
   "cell_type": "code",
   "execution_count": 1,
   "id": "3e4b8967",
   "metadata": {},
   "outputs": [],
   "source": [
    "#importing libraries\n",
    "\n",
    "import pandas as pd\n",
    "import numpy as np"
   ]
  },
  {
   "cell_type": "code",
   "execution_count": 2,
   "id": "6f2f0a31",
   "metadata": {},
   "outputs": [],
   "source": [
    "#importing transshipment file\n",
    "\n",
    "ts=pd.read_csv(\"../data/transshipment.csv\")"
   ]
  },
  {
   "cell_type": "code",
   "execution_count": 3,
   "id": "5f5ccfdb",
   "metadata": {},
   "outputs": [
    {
     "data": {
      "text/html": [
       "<div>\n",
       "<style scoped>\n",
       "    .dataframe tbody tr th:only-of-type {\n",
       "        vertical-align: middle;\n",
       "    }\n",
       "\n",
       "    .dataframe tbody tr th {\n",
       "        vertical-align: top;\n",
       "    }\n",
       "\n",
       "    .dataframe thead th {\n",
       "        text-align: right;\n",
       "    }\n",
       "</style>\n",
       "<table border=\"1\" class=\"dataframe\">\n",
       "  <thead>\n",
       "    <tr style=\"text-align: right;\">\n",
       "      <th></th>\n",
       "      <th>fishing_vessel_mmsi</th>\n",
       "      <th>transshipment_vessel_mmsi</th>\n",
       "      <th>start_time</th>\n",
       "      <th>end_time</th>\n",
       "      <th>mean_latitude</th>\n",
       "      <th>mean_longitude</th>\n",
       "      <th>duration_hr</th>\n",
       "      <th>median_distance_km</th>\n",
       "      <th>median_speed_knots</th>\n",
       "    </tr>\n",
       "  </thead>\n",
       "  <tbody>\n",
       "    <tr>\n",
       "      <th>0</th>\n",
       "      <td>416565000</td>\n",
       "      <td>354240000</td>\n",
       "      <td>2016-11-18T14:30:00Z</td>\n",
       "      <td>2016-11-19T01:50:00Z</td>\n",
       "      <td>-17.039085</td>\n",
       "      <td>-79.063725</td>\n",
       "      <td>11.333333</td>\n",
       "      <td>0.038188</td>\n",
       "      <td>0.585402</td>\n",
       "    </tr>\n",
       "    <tr>\n",
       "      <th>1</th>\n",
       "      <td>412679190</td>\n",
       "      <td>354240000</td>\n",
       "      <td>2016-12-11T14:50:00Z</td>\n",
       "      <td>2016-12-11T19:50:00Z</td>\n",
       "      <td>-20.269608</td>\n",
       "      <td>-79.244953</td>\n",
       "      <td>5.000000</td>\n",
       "      <td>0.020033</td>\n",
       "      <td>0.575663</td>\n",
       "    </tr>\n",
       "    <tr>\n",
       "      <th>2</th>\n",
       "      <td>440863000</td>\n",
       "      <td>354240000</td>\n",
       "      <td>2017-06-13T12:50:00Z</td>\n",
       "      <td>2017-06-15T01:20:00Z</td>\n",
       "      <td>-62.640767</td>\n",
       "      <td>-60.690240</td>\n",
       "      <td>36.500000</td>\n",
       "      <td>0.054992</td>\n",
       "      <td>0.019775</td>\n",
       "    </tr>\n",
       "    <tr>\n",
       "      <th>3</th>\n",
       "      <td>416563000</td>\n",
       "      <td>354240000</td>\n",
       "      <td>2016-11-15T11:30:00Z</td>\n",
       "      <td>2016-11-16T04:00:00Z</td>\n",
       "      <td>-17.046586</td>\n",
       "      <td>-79.061923</td>\n",
       "      <td>16.500000</td>\n",
       "      <td>0.036427</td>\n",
       "      <td>1.023917</td>\n",
       "    </tr>\n",
       "    <tr>\n",
       "      <th>4</th>\n",
       "      <td>441309000</td>\n",
       "      <td>354240000</td>\n",
       "      <td>2017-05-19T00:40:00Z</td>\n",
       "      <td>2017-05-19T20:50:00Z</td>\n",
       "      <td>-46.627878</td>\n",
       "      <td>-60.554922</td>\n",
       "      <td>20.166667</td>\n",
       "      <td>0.034053</td>\n",
       "      <td>0.544031</td>\n",
       "    </tr>\n",
       "  </tbody>\n",
       "</table>\n",
       "</div>"
      ],
      "text/plain": [
       "   fishing_vessel_mmsi  transshipment_vessel_mmsi            start_time  \\\n",
       "0            416565000                  354240000  2016-11-18T14:30:00Z   \n",
       "1            412679190                  354240000  2016-12-11T14:50:00Z   \n",
       "2            440863000                  354240000  2017-06-13T12:50:00Z   \n",
       "3            416563000                  354240000  2016-11-15T11:30:00Z   \n",
       "4            441309000                  354240000  2017-05-19T00:40:00Z   \n",
       "\n",
       "               end_time  mean_latitude  mean_longitude  duration_hr  \\\n",
       "0  2016-11-19T01:50:00Z     -17.039085      -79.063725    11.333333   \n",
       "1  2016-12-11T19:50:00Z     -20.269608      -79.244953     5.000000   \n",
       "2  2017-06-15T01:20:00Z     -62.640767      -60.690240    36.500000   \n",
       "3  2016-11-16T04:00:00Z     -17.046586      -79.061923    16.500000   \n",
       "4  2017-05-19T20:50:00Z     -46.627878      -60.554922    20.166667   \n",
       "\n",
       "   median_distance_km  median_speed_knots  \n",
       "0            0.038188            0.585402  \n",
       "1            0.020033            0.575663  \n",
       "2            0.054992            0.019775  \n",
       "3            0.036427            1.023917  \n",
       "4            0.034053            0.544031  "
      ]
     },
     "execution_count": 3,
     "metadata": {},
     "output_type": "execute_result"
    }
   ],
   "source": [
    "# check file\n",
    "\n",
    "ts.head()"
   ]
  },
  {
   "cell_type": "code",
   "execution_count": 4,
   "id": "9ff41aa2",
   "metadata": {},
   "outputs": [
    {
     "data": {
      "text/plain": [
       "RangeIndex(start=0, stop=11681, step=1)"
      ]
     },
     "execution_count": 4,
     "metadata": {},
     "output_type": "execute_result"
    }
   ],
   "source": [
    "#number of rows\n",
    "\n",
    "ts.index"
   ]
  },
  {
   "cell_type": "code",
   "execution_count": 5,
   "id": "ed82519c",
   "metadata": {},
   "outputs": [
    {
     "data": {
      "text/plain": [
       "Index(['fishing_vessel_mmsi', 'transshipment_vessel_mmsi', 'start_time',\n",
       "       'end_time', 'mean_latitude', 'mean_longitude', 'duration_hr',\n",
       "       'median_distance_km', 'median_speed_knots'],\n",
       "      dtype='object')"
      ]
     },
     "execution_count": 5,
     "metadata": {},
     "output_type": "execute_result"
    }
   ],
   "source": [
    "#check columns\n",
    "\n",
    "ts.columns"
   ]
  },
  {
   "cell_type": "code",
   "execution_count": 6,
   "id": "374b60b6",
   "metadata": {},
   "outputs": [],
   "source": [
    "ts['coordinates'] = tuple(zip(ts['mean_latitude'], ts['mean_longitude']))"
   ]
  },
  {
   "cell_type": "code",
   "execution_count": 7,
   "id": "6e31aaa5",
   "metadata": {},
   "outputs": [
    {
     "data": {
      "text/html": [
       "<div>\n",
       "<style scoped>\n",
       "    .dataframe tbody tr th:only-of-type {\n",
       "        vertical-align: middle;\n",
       "    }\n",
       "\n",
       "    .dataframe tbody tr th {\n",
       "        vertical-align: top;\n",
       "    }\n",
       "\n",
       "    .dataframe thead th {\n",
       "        text-align: right;\n",
       "    }\n",
       "</style>\n",
       "<table border=\"1\" class=\"dataframe\">\n",
       "  <thead>\n",
       "    <tr style=\"text-align: right;\">\n",
       "      <th></th>\n",
       "      <th>fishing_vessel_mmsi</th>\n",
       "      <th>transshipment_vessel_mmsi</th>\n",
       "      <th>start_time</th>\n",
       "      <th>end_time</th>\n",
       "      <th>mean_latitude</th>\n",
       "      <th>mean_longitude</th>\n",
       "      <th>duration_hr</th>\n",
       "      <th>median_distance_km</th>\n",
       "      <th>median_speed_knots</th>\n",
       "      <th>coordinates</th>\n",
       "    </tr>\n",
       "  </thead>\n",
       "  <tbody>\n",
       "    <tr>\n",
       "      <th>0</th>\n",
       "      <td>416565000</td>\n",
       "      <td>354240000</td>\n",
       "      <td>2016-11-18T14:30:00Z</td>\n",
       "      <td>2016-11-19T01:50:00Z</td>\n",
       "      <td>-17.039085</td>\n",
       "      <td>-79.063725</td>\n",
       "      <td>11.333333</td>\n",
       "      <td>0.038188</td>\n",
       "      <td>0.585402</td>\n",
       "      <td>(-17.0390854214, -79.0637246039)</td>\n",
       "    </tr>\n",
       "    <tr>\n",
       "      <th>1</th>\n",
       "      <td>412679190</td>\n",
       "      <td>354240000</td>\n",
       "      <td>2016-12-11T14:50:00Z</td>\n",
       "      <td>2016-12-11T19:50:00Z</td>\n",
       "      <td>-20.269608</td>\n",
       "      <td>-79.244953</td>\n",
       "      <td>5.000000</td>\n",
       "      <td>0.020033</td>\n",
       "      <td>0.575663</td>\n",
       "      <td>(-20.26960835264285, -79.24495254404286)</td>\n",
       "    </tr>\n",
       "    <tr>\n",
       "      <th>2</th>\n",
       "      <td>440863000</td>\n",
       "      <td>354240000</td>\n",
       "      <td>2017-06-13T12:50:00Z</td>\n",
       "      <td>2017-06-15T01:20:00Z</td>\n",
       "      <td>-62.640767</td>\n",
       "      <td>-60.690240</td>\n",
       "      <td>36.500000</td>\n",
       "      <td>0.054992</td>\n",
       "      <td>0.019775</td>\n",
       "      <td>(-62.640767187979215, -60.690240192925565)</td>\n",
       "    </tr>\n",
       "    <tr>\n",
       "      <th>3</th>\n",
       "      <td>416563000</td>\n",
       "      <td>354240000</td>\n",
       "      <td>2016-11-15T11:30:00Z</td>\n",
       "      <td>2016-11-16T04:00:00Z</td>\n",
       "      <td>-17.046586</td>\n",
       "      <td>-79.061923</td>\n",
       "      <td>16.500000</td>\n",
       "      <td>0.036427</td>\n",
       "      <td>1.023917</td>\n",
       "      <td>(-17.04658591501366, -79.0619234553677)</td>\n",
       "    </tr>\n",
       "    <tr>\n",
       "      <th>4</th>\n",
       "      <td>441309000</td>\n",
       "      <td>354240000</td>\n",
       "      <td>2017-05-19T00:40:00Z</td>\n",
       "      <td>2017-05-19T20:50:00Z</td>\n",
       "      <td>-46.627878</td>\n",
       "      <td>-60.554922</td>\n",
       "      <td>20.166667</td>\n",
       "      <td>0.034053</td>\n",
       "      <td>0.544031</td>\n",
       "      <td>(-46.62787804705882, -60.55492183696471)</td>\n",
       "    </tr>\n",
       "  </tbody>\n",
       "</table>\n",
       "</div>"
      ],
      "text/plain": [
       "   fishing_vessel_mmsi  transshipment_vessel_mmsi            start_time  \\\n",
       "0            416565000                  354240000  2016-11-18T14:30:00Z   \n",
       "1            412679190                  354240000  2016-12-11T14:50:00Z   \n",
       "2            440863000                  354240000  2017-06-13T12:50:00Z   \n",
       "3            416563000                  354240000  2016-11-15T11:30:00Z   \n",
       "4            441309000                  354240000  2017-05-19T00:40:00Z   \n",
       "\n",
       "               end_time  mean_latitude  mean_longitude  duration_hr  \\\n",
       "0  2016-11-19T01:50:00Z     -17.039085      -79.063725    11.333333   \n",
       "1  2016-12-11T19:50:00Z     -20.269608      -79.244953     5.000000   \n",
       "2  2017-06-15T01:20:00Z     -62.640767      -60.690240    36.500000   \n",
       "3  2016-11-16T04:00:00Z     -17.046586      -79.061923    16.500000   \n",
       "4  2017-05-19T20:50:00Z     -46.627878      -60.554922    20.166667   \n",
       "\n",
       "   median_distance_km  median_speed_knots  \\\n",
       "0            0.038188            0.585402   \n",
       "1            0.020033            0.575663   \n",
       "2            0.054992            0.019775   \n",
       "3            0.036427            1.023917   \n",
       "4            0.034053            0.544031   \n",
       "\n",
       "                                  coordinates  \n",
       "0            (-17.0390854214, -79.0637246039)  \n",
       "1    (-20.26960835264285, -79.24495254404286)  \n",
       "2  (-62.640767187979215, -60.690240192925565)  \n",
       "3     (-17.04658591501366, -79.0619234553677)  \n",
       "4    (-46.62787804705882, -60.55492183696471)  "
      ]
     },
     "execution_count": 7,
     "metadata": {},
     "output_type": "execute_result"
    }
   ],
   "source": [
    "ts.head()"
   ]
  },
  {
   "cell_type": "code",
   "execution_count": null,
   "id": "51478a5b",
   "metadata": {},
   "outputs": [],
   "source": [
    "#import geocoder\n",
    "\n",
    "import reverse_geocoder as rg\n"
   ]
  }
 ],
 "metadata": {
  "kernelspec": {
   "display_name": "Python 3 (ipykernel)",
   "language": "python",
   "name": "python3"
  },
  "language_info": {
   "codemirror_mode": {
    "name": "ipython",
    "version": 3
   },
   "file_extension": ".py",
   "mimetype": "text/x-python",
   "name": "python",
   "nbconvert_exporter": "python",
   "pygments_lexer": "ipython3",
   "version": "3.10.7"
  }
 },
 "nbformat": 4,
 "nbformat_minor": 5
}
