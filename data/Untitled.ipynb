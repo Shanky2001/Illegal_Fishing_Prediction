{
 "cells": [
  {
   "cell_type": "code",
   "execution_count": 1,
   "id": "989fdb91",
   "metadata": {},
   "outputs": [],
   "source": [
    "import pandas as pd\n",
    "import numpy as np"
   ]
  },
  {
   "cell_type": "code",
   "execution_count": 4,
   "id": "d14b1d4c",
   "metadata": {},
   "outputs": [],
   "source": [
    "fv=pd.read_csv(\"fishing_vessels.csv\")"
   ]
  },
  {
   "cell_type": "code",
   "execution_count": 5,
   "id": "6d0833f6",
   "metadata": {},
   "outputs": [
    {
     "data": {
      "text/plain": [
       "True     60410\n",
       "False    12599\n",
       "Name: active_2016, dtype: int64"
      ]
     },
     "execution_count": 5,
     "metadata": {},
     "output_type": "execute_result"
    }
   ],
   "source": [
    "fv['active_2016'].value_counts()"
   ]
  },
  {
   "cell_type": "code",
   "execution_count": 6,
   "id": "4256d102",
   "metadata": {},
   "outputs": [],
   "source": [
    "fv=fv.loc[(fv['active_2016']==True) | (fv['active_2015']==True)]"
   ]
  },
  {
   "cell_type": "code",
   "execution_count": 7,
   "id": "c2bd049c",
   "metadata": {},
   "outputs": [],
   "source": [
    "iso=pd.read_csv(\"../data/Country_ISO.csv\")"
   ]
  },
  {
   "cell_type": "code",
   "execution_count": 8,
   "id": "bdeea1af",
   "metadata": {},
   "outputs": [
    {
     "data": {
      "text/html": [
       "<div>\n",
       "<style scoped>\n",
       "    .dataframe tbody tr th:only-of-type {\n",
       "        vertical-align: middle;\n",
       "    }\n",
       "\n",
       "    .dataframe tbody tr th {\n",
       "        vertical-align: top;\n",
       "    }\n",
       "\n",
       "    .dataframe thead th {\n",
       "        text-align: right;\n",
       "    }\n",
       "</style>\n",
       "<table border=\"1\" class=\"dataframe\">\n",
       "  <thead>\n",
       "    <tr style=\"text-align: right;\">\n",
       "      <th></th>\n",
       "      <th>Code</th>\n",
       "      <th>Name</th>\n",
       "    </tr>\n",
       "  </thead>\n",
       "  <tbody>\n",
       "    <tr>\n",
       "      <th>0</th>\n",
       "      <td>ABW</td>\n",
       "      <td>Aruba</td>\n",
       "    </tr>\n",
       "    <tr>\n",
       "      <th>1</th>\n",
       "      <td>AFG</td>\n",
       "      <td>Afghanistan</td>\n",
       "    </tr>\n",
       "    <tr>\n",
       "      <th>2</th>\n",
       "      <td>AGO</td>\n",
       "      <td>Angola</td>\n",
       "    </tr>\n",
       "    <tr>\n",
       "      <th>3</th>\n",
       "      <td>AIA</td>\n",
       "      <td>Anguilla</td>\n",
       "    </tr>\n",
       "    <tr>\n",
       "      <th>4</th>\n",
       "      <td>ALA</td>\n",
       "      <td>Åland Islands</td>\n",
       "    </tr>\n",
       "  </tbody>\n",
       "</table>\n",
       "</div>"
      ],
      "text/plain": [
       "  Code           Name\n",
       "0  ABW          Aruba\n",
       "1  AFG    Afghanistan\n",
       "2  AGO         Angola\n",
       "3  AIA       Anguilla\n",
       "4  ALA  Åland Islands"
      ]
     },
     "execution_count": 8,
     "metadata": {},
     "output_type": "execute_result"
    }
   ],
   "source": [
    "iso.head()"
   ]
  },
  {
   "cell_type": "code",
   "execution_count": 9,
   "id": "7879c445",
   "metadata": {},
   "outputs": [],
   "source": [
    "merge_country=fv.merge(iso, left_on='flag', right_on='Code')"
   ]
  },
  {
   "cell_type": "code",
   "execution_count": 10,
   "id": "b2e065e8",
   "metadata": {},
   "outputs": [
    {
     "data": {
      "text/html": [
       "<div>\n",
       "<style scoped>\n",
       "    .dataframe tbody tr th:only-of-type {\n",
       "        vertical-align: middle;\n",
       "    }\n",
       "\n",
       "    .dataframe tbody tr th {\n",
       "        vertical-align: top;\n",
       "    }\n",
       "\n",
       "    .dataframe thead th {\n",
       "        text-align: right;\n",
       "    }\n",
       "</style>\n",
       "<table border=\"1\" class=\"dataframe\">\n",
       "  <thead>\n",
       "    <tr style=\"text-align: right;\">\n",
       "      <th></th>\n",
       "      <th>mmsi</th>\n",
       "      <th>flag</th>\n",
       "      <th>geartype</th>\n",
       "      <th>length</th>\n",
       "      <th>tonnage</th>\n",
       "      <th>engine_power</th>\n",
       "      <th>active_2012</th>\n",
       "      <th>active_2013</th>\n",
       "      <th>active_2014</th>\n",
       "      <th>active_2015</th>\n",
       "      <th>active_2016</th>\n",
       "      <th>Code</th>\n",
       "      <th>Name</th>\n",
       "    </tr>\n",
       "  </thead>\n",
       "  <tbody>\n",
       "    <tr>\n",
       "      <th>0</th>\n",
       "      <td>603100157</td>\n",
       "      <td>AGO</td>\n",
       "      <td>trawlers</td>\n",
       "      <td>32.808468</td>\n",
       "      <td>299.003814</td>\n",
       "      <td>733.826977</td>\n",
       "      <td>False</td>\n",
       "      <td>False</td>\n",
       "      <td>False</td>\n",
       "      <td>True</td>\n",
       "      <td>True</td>\n",
       "      <td>AGO</td>\n",
       "      <td>Angola</td>\n",
       "    </tr>\n",
       "    <tr>\n",
       "      <th>1</th>\n",
       "      <td>603100137</td>\n",
       "      <td>AGO</td>\n",
       "      <td>trawlers</td>\n",
       "      <td>34.568782</td>\n",
       "      <td>395.683171</td>\n",
       "      <td>864.960188</td>\n",
       "      <td>False</td>\n",
       "      <td>False</td>\n",
       "      <td>False</td>\n",
       "      <td>True</td>\n",
       "      <td>True</td>\n",
       "      <td>AGO</td>\n",
       "      <td>Angola</td>\n",
       "    </tr>\n",
       "    <tr>\n",
       "      <th>2</th>\n",
       "      <td>603100161</td>\n",
       "      <td>AGO</td>\n",
       "      <td>trawlers</td>\n",
       "      <td>28.822140</td>\n",
       "      <td>263.849149</td>\n",
       "      <td>651.809642</td>\n",
       "      <td>False</td>\n",
       "      <td>False</td>\n",
       "      <td>False</td>\n",
       "      <td>True</td>\n",
       "      <td>True</td>\n",
       "      <td>AGO</td>\n",
       "      <td>Angola</td>\n",
       "    </tr>\n",
       "    <tr>\n",
       "      <th>3</th>\n",
       "      <td>603100174</td>\n",
       "      <td>AGO</td>\n",
       "      <td>trawlers</td>\n",
       "      <td>30.721429</td>\n",
       "      <td>299.700916</td>\n",
       "      <td>703.796086</td>\n",
       "      <td>False</td>\n",
       "      <td>False</td>\n",
       "      <td>False</td>\n",
       "      <td>True</td>\n",
       "      <td>True</td>\n",
       "      <td>AGO</td>\n",
       "      <td>Angola</td>\n",
       "    </tr>\n",
       "    <tr>\n",
       "      <th>4</th>\n",
       "      <td>603100164</td>\n",
       "      <td>AGO</td>\n",
       "      <td>trawlers</td>\n",
       "      <td>37.479248</td>\n",
       "      <td>405.967747</td>\n",
       "      <td>850.976640</td>\n",
       "      <td>False</td>\n",
       "      <td>False</td>\n",
       "      <td>False</td>\n",
       "      <td>True</td>\n",
       "      <td>True</td>\n",
       "      <td>AGO</td>\n",
       "      <td>Angola</td>\n",
       "    </tr>\n",
       "  </tbody>\n",
       "</table>\n",
       "</div>"
      ],
      "text/plain": [
       "        mmsi flag  geartype     length     tonnage  engine_power  active_2012  \\\n",
       "0  603100157  AGO  trawlers  32.808468  299.003814    733.826977        False   \n",
       "1  603100137  AGO  trawlers  34.568782  395.683171    864.960188        False   \n",
       "2  603100161  AGO  trawlers  28.822140  263.849149    651.809642        False   \n",
       "3  603100174  AGO  trawlers  30.721429  299.700916    703.796086        False   \n",
       "4  603100164  AGO  trawlers  37.479248  405.967747    850.976640        False   \n",
       "\n",
       "   active_2013  active_2014  active_2015  active_2016 Code    Name  \n",
       "0        False        False         True         True  AGO  Angola  \n",
       "1        False        False         True         True  AGO  Angola  \n",
       "2        False        False         True         True  AGO  Angola  \n",
       "3        False        False         True         True  AGO  Angola  \n",
       "4        False        False         True         True  AGO  Angola  "
      ]
     },
     "execution_count": 10,
     "metadata": {},
     "output_type": "execute_result"
    }
   ],
   "source": [
    "merge_country.head()"
   ]
  },
  {
   "cell_type": "code",
   "execution_count": 11,
   "id": "d91cd6f7",
   "metadata": {},
   "outputs": [
    {
     "data": {
      "text/plain": [
       "Int64Index([    0,     1,     2,     3,     4,     5,     6,     7,     8,\n",
       "                9,\n",
       "            ...\n",
       "            66316, 66317, 66318, 66319, 66320, 66321, 66322, 66323, 66324,\n",
       "            66325],\n",
       "           dtype='int64', length=66326)"
      ]
     },
     "execution_count": 11,
     "metadata": {},
     "output_type": "execute_result"
    }
   ],
   "source": [
    "merge_country.index"
   ]
  },
  {
   "cell_type": "code",
   "execution_count": 12,
   "id": "37644db3",
   "metadata": {},
   "outputs": [],
   "source": [
    "merge_country = merge_country.drop(['Code','active_2012','active_2013','active_2014','active_2015','active_2016'], axis=1)"
   ]
  },
  {
   "cell_type": "code",
   "execution_count": 13,
   "id": "968dc086",
   "metadata": {},
   "outputs": [
    {
     "data": {
      "text/html": [
       "<div>\n",
       "<style scoped>\n",
       "    .dataframe tbody tr th:only-of-type {\n",
       "        vertical-align: middle;\n",
       "    }\n",
       "\n",
       "    .dataframe tbody tr th {\n",
       "        vertical-align: top;\n",
       "    }\n",
       "\n",
       "    .dataframe thead th {\n",
       "        text-align: right;\n",
       "    }\n",
       "</style>\n",
       "<table border=\"1\" class=\"dataframe\">\n",
       "  <thead>\n",
       "    <tr style=\"text-align: right;\">\n",
       "      <th></th>\n",
       "      <th>mmsi</th>\n",
       "      <th>flag</th>\n",
       "      <th>geartype</th>\n",
       "      <th>length</th>\n",
       "      <th>tonnage</th>\n",
       "      <th>engine_power</th>\n",
       "      <th>Name</th>\n",
       "    </tr>\n",
       "  </thead>\n",
       "  <tbody>\n",
       "    <tr>\n",
       "      <th>0</th>\n",
       "      <td>603100157</td>\n",
       "      <td>AGO</td>\n",
       "      <td>trawlers</td>\n",
       "      <td>32.808468</td>\n",
       "      <td>299.003814</td>\n",
       "      <td>733.826977</td>\n",
       "      <td>Angola</td>\n",
       "    </tr>\n",
       "    <tr>\n",
       "      <th>1</th>\n",
       "      <td>603100137</td>\n",
       "      <td>AGO</td>\n",
       "      <td>trawlers</td>\n",
       "      <td>34.568782</td>\n",
       "      <td>395.683171</td>\n",
       "      <td>864.960188</td>\n",
       "      <td>Angola</td>\n",
       "    </tr>\n",
       "    <tr>\n",
       "      <th>2</th>\n",
       "      <td>603100161</td>\n",
       "      <td>AGO</td>\n",
       "      <td>trawlers</td>\n",
       "      <td>28.822140</td>\n",
       "      <td>263.849149</td>\n",
       "      <td>651.809642</td>\n",
       "      <td>Angola</td>\n",
       "    </tr>\n",
       "    <tr>\n",
       "      <th>3</th>\n",
       "      <td>603100174</td>\n",
       "      <td>AGO</td>\n",
       "      <td>trawlers</td>\n",
       "      <td>30.721429</td>\n",
       "      <td>299.700916</td>\n",
       "      <td>703.796086</td>\n",
       "      <td>Angola</td>\n",
       "    </tr>\n",
       "    <tr>\n",
       "      <th>4</th>\n",
       "      <td>603100164</td>\n",
       "      <td>AGO</td>\n",
       "      <td>trawlers</td>\n",
       "      <td>37.479248</td>\n",
       "      <td>405.967747</td>\n",
       "      <td>850.976640</td>\n",
       "      <td>Angola</td>\n",
       "    </tr>\n",
       "    <tr>\n",
       "      <th>...</th>\n",
       "      <td>...</td>\n",
       "      <td>...</td>\n",
       "      <td>...</td>\n",
       "      <td>...</td>\n",
       "      <td>...</td>\n",
       "      <td>...</td>\n",
       "      <td>...</td>\n",
       "    </tr>\n",
       "    <tr>\n",
       "      <th>66321</th>\n",
       "      <td>601764000</td>\n",
       "      <td>ZAF</td>\n",
       "      <td>drifting_longlines</td>\n",
       "      <td>17.032258</td>\n",
       "      <td>52.550920</td>\n",
       "      <td>207.818629</td>\n",
       "      <td>South Africa</td>\n",
       "    </tr>\n",
       "    <tr>\n",
       "      <th>66322</th>\n",
       "      <td>601089100</td>\n",
       "      <td>ZAF</td>\n",
       "      <td>drifting_longlines</td>\n",
       "      <td>22.915622</td>\n",
       "      <td>180.506028</td>\n",
       "      <td>527.507463</td>\n",
       "      <td>South Africa</td>\n",
       "    </tr>\n",
       "    <tr>\n",
       "      <th>66323</th>\n",
       "      <td>601849000</td>\n",
       "      <td>ZAF</td>\n",
       "      <td>drifting_longlines</td>\n",
       "      <td>19.692080</td>\n",
       "      <td>86.485661</td>\n",
       "      <td>362.553279</td>\n",
       "      <td>South Africa</td>\n",
       "    </tr>\n",
       "    <tr>\n",
       "      <th>66324</th>\n",
       "      <td>601183700</td>\n",
       "      <td>ZAF</td>\n",
       "      <td>drifting_longlines</td>\n",
       "      <td>31.872860</td>\n",
       "      <td>307.446773</td>\n",
       "      <td>977.330342</td>\n",
       "      <td>South Africa</td>\n",
       "    </tr>\n",
       "    <tr>\n",
       "      <th>66325</th>\n",
       "      <td>601826000</td>\n",
       "      <td>ZAF</td>\n",
       "      <td>drifting_longlines</td>\n",
       "      <td>25.401070</td>\n",
       "      <td>160.784917</td>\n",
       "      <td>365.421212</td>\n",
       "      <td>South Africa</td>\n",
       "    </tr>\n",
       "  </tbody>\n",
       "</table>\n",
       "<p>66326 rows × 7 columns</p>\n",
       "</div>"
      ],
      "text/plain": [
       "            mmsi flag            geartype     length     tonnage  \\\n",
       "0      603100157  AGO            trawlers  32.808468  299.003814   \n",
       "1      603100137  AGO            trawlers  34.568782  395.683171   \n",
       "2      603100161  AGO            trawlers  28.822140  263.849149   \n",
       "3      603100174  AGO            trawlers  30.721429  299.700916   \n",
       "4      603100164  AGO            trawlers  37.479248  405.967747   \n",
       "...          ...  ...                 ...        ...         ...   \n",
       "66321  601764000  ZAF  drifting_longlines  17.032258   52.550920   \n",
       "66322  601089100  ZAF  drifting_longlines  22.915622  180.506028   \n",
       "66323  601849000  ZAF  drifting_longlines  19.692080   86.485661   \n",
       "66324  601183700  ZAF  drifting_longlines  31.872860  307.446773   \n",
       "66325  601826000  ZAF  drifting_longlines  25.401070  160.784917   \n",
       "\n",
       "       engine_power          Name  \n",
       "0        733.826977        Angola  \n",
       "1        864.960188        Angola  \n",
       "2        651.809642        Angola  \n",
       "3        703.796086        Angola  \n",
       "4        850.976640        Angola  \n",
       "...             ...           ...  \n",
       "66321    207.818629  South Africa  \n",
       "66322    527.507463  South Africa  \n",
       "66323    362.553279  South Africa  \n",
       "66324    977.330342  South Africa  \n",
       "66325    365.421212  South Africa  \n",
       "\n",
       "[66326 rows x 7 columns]"
      ]
     },
     "execution_count": 13,
     "metadata": {},
     "output_type": "execute_result"
    }
   ],
   "source": [
    "merge_country"
   ]
  },
  {
   "cell_type": "code",
   "execution_count": 14,
   "id": "362f07d5",
   "metadata": {},
   "outputs": [
    {
     "data": {
      "text/plain": [
       "False    66326\n",
       "Name: mmsi, dtype: int64"
      ]
     },
     "execution_count": 14,
     "metadata": {},
     "output_type": "execute_result"
    }
   ],
   "source": [
    "merge_country['mmsi'].isnull().value_counts()"
   ]
  },
  {
   "cell_type": "code",
   "execution_count": 15,
   "id": "7e8ba42e",
   "metadata": {},
   "outputs": [],
   "source": [
    "merge_country.columns=['mmsi','flag','gear_type','length','tonnage','engine_power','country']"
   ]
  },
  {
   "cell_type": "code",
   "execution_count": 16,
   "id": "66194731",
   "metadata": {},
   "outputs": [
    {
     "data": {
      "text/html": [
       "<div>\n",
       "<style scoped>\n",
       "    .dataframe tbody tr th:only-of-type {\n",
       "        vertical-align: middle;\n",
       "    }\n",
       "\n",
       "    .dataframe tbody tr th {\n",
       "        vertical-align: top;\n",
       "    }\n",
       "\n",
       "    .dataframe thead th {\n",
       "        text-align: right;\n",
       "    }\n",
       "</style>\n",
       "<table border=\"1\" class=\"dataframe\">\n",
       "  <thead>\n",
       "    <tr style=\"text-align: right;\">\n",
       "      <th></th>\n",
       "      <th>mmsi</th>\n",
       "      <th>flag</th>\n",
       "      <th>gear_type</th>\n",
       "      <th>length</th>\n",
       "      <th>tonnage</th>\n",
       "      <th>engine_power</th>\n",
       "      <th>country</th>\n",
       "    </tr>\n",
       "  </thead>\n",
       "  <tbody>\n",
       "    <tr>\n",
       "      <th>0</th>\n",
       "      <td>603100157</td>\n",
       "      <td>AGO</td>\n",
       "      <td>trawlers</td>\n",
       "      <td>32.808468</td>\n",
       "      <td>299.003814</td>\n",
       "      <td>733.826977</td>\n",
       "      <td>Angola</td>\n",
       "    </tr>\n",
       "    <tr>\n",
       "      <th>1</th>\n",
       "      <td>603100137</td>\n",
       "      <td>AGO</td>\n",
       "      <td>trawlers</td>\n",
       "      <td>34.568782</td>\n",
       "      <td>395.683171</td>\n",
       "      <td>864.960188</td>\n",
       "      <td>Angola</td>\n",
       "    </tr>\n",
       "    <tr>\n",
       "      <th>2</th>\n",
       "      <td>603100161</td>\n",
       "      <td>AGO</td>\n",
       "      <td>trawlers</td>\n",
       "      <td>28.822140</td>\n",
       "      <td>263.849149</td>\n",
       "      <td>651.809642</td>\n",
       "      <td>Angola</td>\n",
       "    </tr>\n",
       "    <tr>\n",
       "      <th>3</th>\n",
       "      <td>603100174</td>\n",
       "      <td>AGO</td>\n",
       "      <td>trawlers</td>\n",
       "      <td>30.721429</td>\n",
       "      <td>299.700916</td>\n",
       "      <td>703.796086</td>\n",
       "      <td>Angola</td>\n",
       "    </tr>\n",
       "    <tr>\n",
       "      <th>4</th>\n",
       "      <td>603100164</td>\n",
       "      <td>AGO</td>\n",
       "      <td>trawlers</td>\n",
       "      <td>37.479248</td>\n",
       "      <td>405.967747</td>\n",
       "      <td>850.976640</td>\n",
       "      <td>Angola</td>\n",
       "    </tr>\n",
       "  </tbody>\n",
       "</table>\n",
       "</div>"
      ],
      "text/plain": [
       "        mmsi flag gear_type     length     tonnage  engine_power country\n",
       "0  603100157  AGO  trawlers  32.808468  299.003814    733.826977  Angola\n",
       "1  603100137  AGO  trawlers  34.568782  395.683171    864.960188  Angola\n",
       "2  603100161  AGO  trawlers  28.822140  263.849149    651.809642  Angola\n",
       "3  603100174  AGO  trawlers  30.721429  299.700916    703.796086  Angola\n",
       "4  603100164  AGO  trawlers  37.479248  405.967747    850.976640  Angola"
      ]
     },
     "execution_count": 16,
     "metadata": {},
     "output_type": "execute_result"
    }
   ],
   "source": [
    "merge_country.head()"
   ]
  },
  {
   "cell_type": "code",
   "execution_count": 17,
   "id": "a21310a0",
   "metadata": {},
   "outputs": [
    {
     "data": {
      "text/plain": [
       "mmsi              int64\n",
       "flag             object\n",
       "gear_type        object\n",
       "length          float64\n",
       "tonnage         float64\n",
       "engine_power    float64\n",
       "country          object\n",
       "dtype: object"
      ]
     },
     "execution_count": 17,
     "metadata": {},
     "output_type": "execute_result"
    }
   ],
   "source": [
    "merge_country.dtypes"
   ]
  },
  {
   "cell_type": "code",
   "execution_count": 18,
   "id": "83b32cd0",
   "metadata": {},
   "outputs": [],
   "source": [
    "IUU=pd.read_excel(\"IUU.xlsx\")"
   ]
  },
  {
   "cell_type": "code",
   "execution_count": 19,
   "id": "baef73a6",
   "metadata": {},
   "outputs": [
    {
     "data": {
      "text/html": [
       "<div>\n",
       "<style scoped>\n",
       "    .dataframe tbody tr th:only-of-type {\n",
       "        vertical-align: middle;\n",
       "    }\n",
       "\n",
       "    .dataframe tbody tr th {\n",
       "        vertical-align: top;\n",
       "    }\n",
       "\n",
       "    .dataframe thead th {\n",
       "        text-align: right;\n",
       "    }\n",
       "</style>\n",
       "<table border=\"1\" class=\"dataframe\">\n",
       "  <thead>\n",
       "    <tr style=\"text-align: right;\">\n",
       "      <th></th>\n",
       "      <th>Country</th>\n",
       "      <th>IUU Fishing</th>\n",
       "    </tr>\n",
       "  </thead>\n",
       "  <tbody>\n",
       "    <tr>\n",
       "      <th>0</th>\n",
       "      <td>China</td>\n",
       "      <td>3.93</td>\n",
       "    </tr>\n",
       "    <tr>\n",
       "      <th>1</th>\n",
       "      <td>Taiwan, Province of China</td>\n",
       "      <td>3.34</td>\n",
       "    </tr>\n",
       "    <tr>\n",
       "      <th>2</th>\n",
       "      <td>Cambodia</td>\n",
       "      <td>3.23</td>\n",
       "    </tr>\n",
       "    <tr>\n",
       "      <th>3</th>\n",
       "      <td>Russian Federation</td>\n",
       "      <td>3.16</td>\n",
       "    </tr>\n",
       "    <tr>\n",
       "      <th>4</th>\n",
       "      <td>Vietnam</td>\n",
       "      <td>3.16</td>\n",
       "    </tr>\n",
       "  </tbody>\n",
       "</table>\n",
       "</div>"
      ],
      "text/plain": [
       "                     Country  IUU Fishing\n",
       "0                      China         3.93\n",
       "1  Taiwan, Province of China         3.34\n",
       "2                   Cambodia         3.23\n",
       "3         Russian Federation         3.16\n",
       "4                    Vietnam         3.16"
      ]
     },
     "execution_count": 19,
     "metadata": {},
     "output_type": "execute_result"
    }
   ],
   "source": [
    "IUU.head()"
   ]
  },
  {
   "cell_type": "code",
   "execution_count": 20,
   "id": "d4dc25f7",
   "metadata": {},
   "outputs": [
    {
     "data": {
      "text/plain": [
       "<bound method IndexOpsMixin.value_counts of 0              Angola\n",
       "1              Angola\n",
       "2              Angola\n",
       "3              Angola\n",
       "4              Angola\n",
       "             ...     \n",
       "66321    South Africa\n",
       "66322    South Africa\n",
       "66323    South Africa\n",
       "66324    South Africa\n",
       "66325    South Africa\n",
       "Name: country, Length: 66326, dtype: object>"
      ]
     },
     "execution_count": 20,
     "metadata": {},
     "output_type": "execute_result"
    }
   ],
   "source": [
    "merge_country['country'].value_counts"
   ]
  },
  {
   "cell_type": "code",
   "execution_count": 21,
   "id": "6a7004b8",
   "metadata": {},
   "outputs": [],
   "source": [
    "fish_vessel_IUU_df=merge_country.merge(IUU, how='left',left_on='country', right_on='Country')"
   ]
  },
  {
   "cell_type": "code",
   "execution_count": 22,
   "id": "018eeb6d",
   "metadata": {},
   "outputs": [
    {
     "data": {
      "text/html": [
       "<div>\n",
       "<style scoped>\n",
       "    .dataframe tbody tr th:only-of-type {\n",
       "        vertical-align: middle;\n",
       "    }\n",
       "\n",
       "    .dataframe tbody tr th {\n",
       "        vertical-align: top;\n",
       "    }\n",
       "\n",
       "    .dataframe thead th {\n",
       "        text-align: right;\n",
       "    }\n",
       "</style>\n",
       "<table border=\"1\" class=\"dataframe\">\n",
       "  <thead>\n",
       "    <tr style=\"text-align: right;\">\n",
       "      <th></th>\n",
       "      <th>mmsi</th>\n",
       "      <th>flag</th>\n",
       "      <th>gear_type</th>\n",
       "      <th>length</th>\n",
       "      <th>tonnage</th>\n",
       "      <th>engine_power</th>\n",
       "      <th>country</th>\n",
       "      <th>Country</th>\n",
       "      <th>IUU Fishing</th>\n",
       "    </tr>\n",
       "  </thead>\n",
       "  <tbody>\n",
       "    <tr>\n",
       "      <th>0</th>\n",
       "      <td>603100157</td>\n",
       "      <td>AGO</td>\n",
       "      <td>trawlers</td>\n",
       "      <td>32.808468</td>\n",
       "      <td>299.003814</td>\n",
       "      <td>733.826977</td>\n",
       "      <td>Angola</td>\n",
       "      <td>Angola</td>\n",
       "      <td>2.37</td>\n",
       "    </tr>\n",
       "    <tr>\n",
       "      <th>1</th>\n",
       "      <td>603100137</td>\n",
       "      <td>AGO</td>\n",
       "      <td>trawlers</td>\n",
       "      <td>34.568782</td>\n",
       "      <td>395.683171</td>\n",
       "      <td>864.960188</td>\n",
       "      <td>Angola</td>\n",
       "      <td>Angola</td>\n",
       "      <td>2.37</td>\n",
       "    </tr>\n",
       "    <tr>\n",
       "      <th>2</th>\n",
       "      <td>603100161</td>\n",
       "      <td>AGO</td>\n",
       "      <td>trawlers</td>\n",
       "      <td>28.822140</td>\n",
       "      <td>263.849149</td>\n",
       "      <td>651.809642</td>\n",
       "      <td>Angola</td>\n",
       "      <td>Angola</td>\n",
       "      <td>2.37</td>\n",
       "    </tr>\n",
       "    <tr>\n",
       "      <th>3</th>\n",
       "      <td>603100174</td>\n",
       "      <td>AGO</td>\n",
       "      <td>trawlers</td>\n",
       "      <td>30.721429</td>\n",
       "      <td>299.700916</td>\n",
       "      <td>703.796086</td>\n",
       "      <td>Angola</td>\n",
       "      <td>Angola</td>\n",
       "      <td>2.37</td>\n",
       "    </tr>\n",
       "    <tr>\n",
       "      <th>4</th>\n",
       "      <td>603100164</td>\n",
       "      <td>AGO</td>\n",
       "      <td>trawlers</td>\n",
       "      <td>37.479248</td>\n",
       "      <td>405.967747</td>\n",
       "      <td>850.976640</td>\n",
       "      <td>Angola</td>\n",
       "      <td>Angola</td>\n",
       "      <td>2.37</td>\n",
       "    </tr>\n",
       "  </tbody>\n",
       "</table>\n",
       "</div>"
      ],
      "text/plain": [
       "        mmsi flag gear_type     length     tonnage  engine_power country  \\\n",
       "0  603100157  AGO  trawlers  32.808468  299.003814    733.826977  Angola   \n",
       "1  603100137  AGO  trawlers  34.568782  395.683171    864.960188  Angola   \n",
       "2  603100161  AGO  trawlers  28.822140  263.849149    651.809642  Angola   \n",
       "3  603100174  AGO  trawlers  30.721429  299.700916    703.796086  Angola   \n",
       "4  603100164  AGO  trawlers  37.479248  405.967747    850.976640  Angola   \n",
       "\n",
       "  Country  IUU Fishing  \n",
       "0  Angola         2.37  \n",
       "1  Angola         2.37  \n",
       "2  Angola         2.37  \n",
       "3  Angola         2.37  \n",
       "4  Angola         2.37  "
      ]
     },
     "execution_count": 22,
     "metadata": {},
     "output_type": "execute_result"
    }
   ],
   "source": [
    "fish_vessel_IUU_df.head()"
   ]
  },
  {
   "cell_type": "code",
   "execution_count": 23,
   "id": "4ba935de",
   "metadata": {},
   "outputs": [
    {
     "data": {
      "text/plain": [
       "<bound method IndexOpsMixin.value_counts of 0              Angola\n",
       "1              Angola\n",
       "2              Angola\n",
       "3              Angola\n",
       "4              Angola\n",
       "             ...     \n",
       "66321    South Africa\n",
       "66322    South Africa\n",
       "66323    South Africa\n",
       "66324    South Africa\n",
       "66325    South Africa\n",
       "Name: country, Length: 66326, dtype: object>"
      ]
     },
     "execution_count": 23,
     "metadata": {},
     "output_type": "execute_result"
    }
   ],
   "source": [
    "fish_vessel_IUU_df['country'].value_counts"
   ]
  },
  {
   "cell_type": "code",
   "execution_count": 24,
   "id": "9b0c2796",
   "metadata": {},
   "outputs": [
    {
     "data": {
      "text/plain": [
       "<bound method IndexOpsMixin.value_counts of 0              Angola\n",
       "1              Angola\n",
       "2              Angola\n",
       "3              Angola\n",
       "4              Angola\n",
       "             ...     \n",
       "66321    South Africa\n",
       "66322    South Africa\n",
       "66323    South Africa\n",
       "66324    South Africa\n",
       "66325    South Africa\n",
       "Name: Country, Length: 66326, dtype: object>"
      ]
     },
     "execution_count": 24,
     "metadata": {},
     "output_type": "execute_result"
    }
   ],
   "source": [
    "fish_vessel_IUU_df['Country'].value_counts"
   ]
  },
  {
   "cell_type": "code",
   "execution_count": 25,
   "id": "bb54464e",
   "metadata": {},
   "outputs": [
    {
     "data": {
      "text/plain": [
       "<bound method IndexOpsMixin.value_counts of 0        2.37\n",
       "1        2.37\n",
       "2        2.37\n",
       "3        2.37\n",
       "4        2.37\n",
       "         ... \n",
       "66321    2.43\n",
       "66322    2.43\n",
       "66323    2.43\n",
       "66324    2.43\n",
       "66325    2.43\n",
       "Name: IUU Fishing, Length: 66326, dtype: float64>"
      ]
     },
     "execution_count": 25,
     "metadata": {},
     "output_type": "execute_result"
    }
   ],
   "source": [
    "fish_vessel_IUU_df['IUU Fishing'].value_counts"
   ]
  },
  {
   "cell_type": "code",
   "execution_count": 26,
   "id": "fb555d27",
   "metadata": {},
   "outputs": [
    {
     "data": {
      "text/plain": [
       "mmsi              0\n",
       "flag              0\n",
       "gear_type         3\n",
       "length            2\n",
       "tonnage           2\n",
       "engine_power      5\n",
       "country           0\n",
       "Country         296\n",
       "IUU Fishing     296\n",
       "dtype: int64"
      ]
     },
     "execution_count": 26,
     "metadata": {},
     "output_type": "execute_result"
    }
   ],
   "source": [
    "fish_vessel_IUU_df.isna().sum()"
   ]
  },
  {
   "cell_type": "code",
   "execution_count": 27,
   "id": "2436b2ba",
   "metadata": {},
   "outputs": [],
   "source": [
    "lost_data=fish_vessel_IUU_df.loc[fish_vessel_IUU_df[\"Country\"].isna()]"
   ]
  },
  {
   "cell_type": "code",
   "execution_count": 28,
   "id": "3c8a09cc",
   "metadata": {},
   "outputs": [
    {
     "data": {
      "text/plain": [
       "<bound method IndexOpsMixin.value_counts of 308           French Southern Territories\n",
       "309           French Southern Territories\n",
       "562      Bonaire, Sint Eustatius and Saba\n",
       "563      Bonaire, Sint Eustatius and Saba\n",
       "1344                          Switzerland\n",
       "                       ...               \n",
       "61233           Saint Pierre and Miquelon\n",
       "61234           Saint Pierre and Miquelon\n",
       "61525            Turks and Caicos Islands\n",
       "61526                                Chad\n",
       "66047                            Viet Nam\n",
       "Name: country, Length: 296, dtype: object>"
      ]
     },
     "execution_count": 28,
     "metadata": {},
     "output_type": "execute_result"
    }
   ],
   "source": [
    "lost_data['country'].value_counts"
   ]
  },
  {
   "cell_type": "code",
   "execution_count": 29,
   "id": "60ac4228",
   "metadata": {},
   "outputs": [],
   "source": [
    "#check problematic names\n",
    "\n",
    "check_problems1 = lost_data.groupby(['country']).agg({'country':'count'})"
   ]
  },
  {
   "cell_type": "code",
   "execution_count": 30,
   "id": "17f31f66",
   "metadata": {},
   "outputs": [
    {
     "data": {
      "text/html": [
       "<div>\n",
       "<style scoped>\n",
       "    .dataframe tbody tr th:only-of-type {\n",
       "        vertical-align: middle;\n",
       "    }\n",
       "\n",
       "    .dataframe tbody tr th {\n",
       "        vertical-align: top;\n",
       "    }\n",
       "\n",
       "    .dataframe thead th {\n",
       "        text-align: right;\n",
       "    }\n",
       "</style>\n",
       "<table border=\"1\" class=\"dataframe\">\n",
       "  <thead>\n",
       "    <tr style=\"text-align: right;\">\n",
       "      <th></th>\n",
       "      <th>country</th>\n",
       "    </tr>\n",
       "    <tr>\n",
       "      <th>country</th>\n",
       "      <th></th>\n",
       "    </tr>\n",
       "  </thead>\n",
       "  <tbody>\n",
       "    <tr>\n",
       "      <th>Bonaire, Sint Eustatius and Saba</th>\n",
       "      <td>2</td>\n",
       "    </tr>\n",
       "    <tr>\n",
       "      <th>Cayman Islands</th>\n",
       "      <td>2</td>\n",
       "    </tr>\n",
       "    <tr>\n",
       "      <th>Chad</th>\n",
       "      <td>1</td>\n",
       "    </tr>\n",
       "    <tr>\n",
       "      <th>Curaçao</th>\n",
       "      <td>5</td>\n",
       "    </tr>\n",
       "    <tr>\n",
       "      <th>Falkland Islands (Malvinas)</th>\n",
       "      <td>16</td>\n",
       "    </tr>\n",
       "    <tr>\n",
       "      <th>Faroe Islands</th>\n",
       "      <td>108</td>\n",
       "    </tr>\n",
       "    <tr>\n",
       "      <th>French Guiana</th>\n",
       "      <td>18</td>\n",
       "    </tr>\n",
       "    <tr>\n",
       "      <th>French Polynesia</th>\n",
       "      <td>1</td>\n",
       "    </tr>\n",
       "    <tr>\n",
       "      <th>French Southern Territories</th>\n",
       "      <td>2</td>\n",
       "    </tr>\n",
       "    <tr>\n",
       "      <th>Greenland</th>\n",
       "      <td>52</td>\n",
       "    </tr>\n",
       "    <tr>\n",
       "      <th>Guadeloupe</th>\n",
       "      <td>1</td>\n",
       "    </tr>\n",
       "    <tr>\n",
       "      <th>Hong Kong</th>\n",
       "      <td>27</td>\n",
       "    </tr>\n",
       "    <tr>\n",
       "      <th>Macao</th>\n",
       "      <td>4</td>\n",
       "    </tr>\n",
       "    <tr>\n",
       "      <th>Martinique</th>\n",
       "      <td>1</td>\n",
       "    </tr>\n",
       "    <tr>\n",
       "      <th>Mongolia</th>\n",
       "      <td>9</td>\n",
       "    </tr>\n",
       "    <tr>\n",
       "      <th>New Caledonia</th>\n",
       "      <td>19</td>\n",
       "    </tr>\n",
       "    <tr>\n",
       "      <th>Réunion</th>\n",
       "      <td>20</td>\n",
       "    </tr>\n",
       "    <tr>\n",
       "      <th>Saint Helena, Ascension and Tristan da Cunha</th>\n",
       "      <td>2</td>\n",
       "    </tr>\n",
       "    <tr>\n",
       "      <th>Saint Pierre and Miquelon</th>\n",
       "      <td>3</td>\n",
       "    </tr>\n",
       "    <tr>\n",
       "      <th>Switzerland</th>\n",
       "      <td>1</td>\n",
       "    </tr>\n",
       "    <tr>\n",
       "      <th>Turks and Caicos Islands</th>\n",
       "      <td>1</td>\n",
       "    </tr>\n",
       "    <tr>\n",
       "      <th>Viet Nam</th>\n",
       "      <td>1</td>\n",
       "    </tr>\n",
       "  </tbody>\n",
       "</table>\n",
       "</div>"
      ],
      "text/plain": [
       "                                              country\n",
       "country                                              \n",
       "Bonaire, Sint Eustatius and Saba                    2\n",
       "Cayman Islands                                      2\n",
       "Chad                                                1\n",
       "Curaçao                                             5\n",
       "Falkland Islands (Malvinas)                        16\n",
       "Faroe Islands                                     108\n",
       "French Guiana                                      18\n",
       "French Polynesia                                    1\n",
       "French Southern Territories                         2\n",
       "Greenland                                          52\n",
       "Guadeloupe                                          1\n",
       "Hong Kong                                          27\n",
       "Macao                                               4\n",
       "Martinique                                          1\n",
       "Mongolia                                            9\n",
       "New Caledonia                                      19\n",
       "Réunion                                            20\n",
       "Saint Helena, Ascension and Tristan da Cunha        2\n",
       "Saint Pierre and Miquelon                           3\n",
       "Switzerland                                         1\n",
       "Turks and Caicos Islands                            1\n",
       "Viet Nam                                            1"
      ]
     },
     "execution_count": 30,
     "metadata": {},
     "output_type": "execute_result"
    }
   ],
   "source": [
    "check_problems1"
   ]
  },
  {
   "cell_type": "code",
   "execution_count": 31,
   "id": "4b5b2727",
   "metadata": {},
   "outputs": [
    {
     "data": {
      "text/plain": [
       "0                          China\n",
       "1      Taiwan, Province of China\n",
       "2                       Cambodia\n",
       "3             Russian Federation\n",
       "4                        Vietnam\n",
       "                 ...            \n",
       "146                       Sweden\n",
       "147                       Poland\n",
       "148                      Estonia\n",
       "149                      Finland\n",
       "150                       Latvia\n",
       "Name: Country, Length: 151, dtype: object"
      ]
     },
     "execution_count": 31,
     "metadata": {},
     "output_type": "execute_result"
    }
   ],
   "source": [
    "IUU['Country'].head(151)"
   ]
  },
  {
   "cell_type": "code",
   "execution_count": 32,
   "id": "1d043c54",
   "metadata": {},
   "outputs": [],
   "source": [
    "final_fv_df=merge_country.copy()"
   ]
  },
  {
   "cell_type": "code",
   "execution_count": 33,
   "id": "99f515cb",
   "metadata": {},
   "outputs": [
    {
     "data": {
      "text/html": [
       "<div>\n",
       "<style scoped>\n",
       "    .dataframe tbody tr th:only-of-type {\n",
       "        vertical-align: middle;\n",
       "    }\n",
       "\n",
       "    .dataframe tbody tr th {\n",
       "        vertical-align: top;\n",
       "    }\n",
       "\n",
       "    .dataframe thead th {\n",
       "        text-align: right;\n",
       "    }\n",
       "</style>\n",
       "<table border=\"1\" class=\"dataframe\">\n",
       "  <thead>\n",
       "    <tr style=\"text-align: right;\">\n",
       "      <th></th>\n",
       "      <th>mmsi</th>\n",
       "      <th>flag</th>\n",
       "      <th>gear_type</th>\n",
       "      <th>length</th>\n",
       "      <th>tonnage</th>\n",
       "      <th>engine_power</th>\n",
       "      <th>country</th>\n",
       "    </tr>\n",
       "  </thead>\n",
       "  <tbody>\n",
       "    <tr>\n",
       "      <th>0</th>\n",
       "      <td>603100157</td>\n",
       "      <td>AGO</td>\n",
       "      <td>trawlers</td>\n",
       "      <td>32.808468</td>\n",
       "      <td>299.003814</td>\n",
       "      <td>733.826977</td>\n",
       "      <td>Angola</td>\n",
       "    </tr>\n",
       "    <tr>\n",
       "      <th>1</th>\n",
       "      <td>603100137</td>\n",
       "      <td>AGO</td>\n",
       "      <td>trawlers</td>\n",
       "      <td>34.568782</td>\n",
       "      <td>395.683171</td>\n",
       "      <td>864.960188</td>\n",
       "      <td>Angola</td>\n",
       "    </tr>\n",
       "    <tr>\n",
       "      <th>2</th>\n",
       "      <td>603100161</td>\n",
       "      <td>AGO</td>\n",
       "      <td>trawlers</td>\n",
       "      <td>28.822140</td>\n",
       "      <td>263.849149</td>\n",
       "      <td>651.809642</td>\n",
       "      <td>Angola</td>\n",
       "    </tr>\n",
       "    <tr>\n",
       "      <th>3</th>\n",
       "      <td>603100174</td>\n",
       "      <td>AGO</td>\n",
       "      <td>trawlers</td>\n",
       "      <td>30.721429</td>\n",
       "      <td>299.700916</td>\n",
       "      <td>703.796086</td>\n",
       "      <td>Angola</td>\n",
       "    </tr>\n",
       "    <tr>\n",
       "      <th>4</th>\n",
       "      <td>603100164</td>\n",
       "      <td>AGO</td>\n",
       "      <td>trawlers</td>\n",
       "      <td>37.479248</td>\n",
       "      <td>405.967747</td>\n",
       "      <td>850.976640</td>\n",
       "      <td>Angola</td>\n",
       "    </tr>\n",
       "  </tbody>\n",
       "</table>\n",
       "</div>"
      ],
      "text/plain": [
       "        mmsi flag gear_type     length     tonnage  engine_power country\n",
       "0  603100157  AGO  trawlers  32.808468  299.003814    733.826977  Angola\n",
       "1  603100137  AGO  trawlers  34.568782  395.683171    864.960188  Angola\n",
       "2  603100161  AGO  trawlers  28.822140  263.849149    651.809642  Angola\n",
       "3  603100174  AGO  trawlers  30.721429  299.700916    703.796086  Angola\n",
       "4  603100164  AGO  trawlers  37.479248  405.967747    850.976640  Angola"
      ]
     },
     "execution_count": 33,
     "metadata": {},
     "output_type": "execute_result"
    }
   ],
   "source": [
    "final_fv_df.head()"
   ]
  },
  {
   "cell_type": "code",
   "execution_count": 34,
   "id": "63bd61e6",
   "metadata": {},
   "outputs": [],
   "source": [
    "#change according to the IUU table, relevant ti change Macao, Hong Kong, Greenland and Faroe Islands\n",
    "\n",
    "final_fv_df['country'] = np.where(final_fv_df['country'] == 'Macao', \"China\", final_fv_df['country'])\n",
    "final_fv_df['country'] = np.where(final_fv_df['country'] == 'Hong Kong', \"China\", final_fv_df['country'])\n",
    "final_fv_df['country'] = np.where(final_fv_df['country'] == 'Faroe Islands', \"Denmark\", final_fv_df['country'])\n",
    "final_fv_df['country'] = np.where(final_fv_df['country'] == 'Greenland', \"Denmark\", final_fv_df['country'])\n",
    "final_fv_df['country'] = np.where(final_fv_df['country'] == 'Viet Nam', \"Vietnam\", final_fv_df['country'])\n",
    "final_fv_df['country'] = np.where(final_fv_df['country'] == 'Venezuela, Bolivarian Republic of', \"Venezuela\", final_fv_df['country'])\n",
    "\n",
    "\n",
    "\n"
   ]
  },
  {
   "cell_type": "code",
   "execution_count": 35,
   "id": "95654566",
   "metadata": {},
   "outputs": [],
   "source": [
    "fishing_trial_df=final_fv_df.merge(IUU, how='left',left_on='country', right_on='Country')"
   ]
  },
  {
   "cell_type": "code",
   "execution_count": 36,
   "id": "16507c6e",
   "metadata": {},
   "outputs": [],
   "source": [
    "lost_data2=fishing_trial_df.loc[fishing_trial_df[\"Country\"].isna()]"
   ]
  },
  {
   "cell_type": "code",
   "execution_count": null,
   "id": "9516463a",
   "metadata": {},
   "outputs": [],
   "source": []
  }
 ],
 "metadata": {
  "kernelspec": {
   "display_name": "Python 3 (ipykernel)",
   "language": "python",
   "name": "python3"
  },
  "language_info": {
   "codemirror_mode": {
    "name": "ipython",
    "version": 3
   },
   "file_extension": ".py",
   "mimetype": "text/x-python",
   "name": "python",
   "nbconvert_exporter": "python",
   "pygments_lexer": "ipython3",
   "version": "3.10.7"
  }
 },
 "nbformat": 4,
 "nbformat_minor": 5
}
